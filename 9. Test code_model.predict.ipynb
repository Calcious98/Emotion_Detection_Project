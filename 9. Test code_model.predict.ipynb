{
 "cells": [
  {
   "cell_type": "code",
   "execution_count": 1,
   "id": "734d707e",
   "metadata": {},
   "outputs": [],
   "source": [
    "import tensorflow as tf\n",
    "from tensorflow.keras.preprocessing import image\n",
    "from tensorflow.keras import models, layers"
   ]
  },
  {
   "cell_type": "code",
   "execution_count": 2,
   "id": "b914b9af",
   "metadata": {},
   "outputs": [],
   "source": [
    "from tensorflow.keras.models import load_model\n",
    "\n",
    "model = load_model('VGG16_BatchNor.h5') # 모델명"
   ]
  },
  {
   "cell_type": "code",
   "execution_count": 3,
   "id": "fcf60307",
   "metadata": {},
   "outputs": [],
   "source": [
    "import cv2\n",
    "\n",
    "roi = cv2.imread('KakaoTalk_Photo_2022-11-29-14-15-27.png') # 파일 경로"
   ]
  },
  {
   "cell_type": "code",
   "execution_count": 5,
   "id": "a0c6aec1",
   "metadata": {},
   "outputs": [],
   "source": [
    "import numpy as np\n",
    "\n",
    "w, h = 250, 250\n",
    "roi = cv2.resize(roi, (w,h), interpolation = cv2.INTER_AREA)\n",
    "roi = roi.astype('float') / 255.0\n",
    "# roi = img_to_array(roi)\n",
    "roi = np.expand_dims(roi, axis=0)\n",
    "# img = img.reshape(1,w,h,3)"
   ]
  },
  {
   "cell_type": "code",
   "execution_count": 9,
   "id": "fb143734",
   "metadata": {},
   "outputs": [],
   "source": [
    "Prediction = model.predict(roi)"
   ]
  },
  {
   "cell_type": "code",
   "execution_count": 10,
   "id": "39aa1395",
   "metadata": {},
   "outputs": [
    {
     "data": {
      "text/plain": [
       "array([0.7432218 , 0.09155186, 0.02939516, 0.13583113], dtype=float32)"
      ]
     },
     "execution_count": 10,
     "metadata": {},
     "output_type": "execute_result"
    }
   ],
   "source": [
    "Prediction[0]   #감정별 백분율 (화남 0, 기쁨 1, 중립 2, 슬픔3)"
   ]
  },
  {
   "cell_type": "code",
   "execution_count": 11,
   "id": "662e14e3",
   "metadata": {},
   "outputs": [
    {
     "data": {
      "text/plain": [
       "0"
      ]
     },
     "execution_count": 11,
     "metadata": {},
     "output_type": "execute_result"
    }
   ],
   "source": [
    "np.argmax(Prediction) #백분율이 제일 높은 값"
   ]
  },
  {
   "cell_type": "code",
   "execution_count": null,
   "id": "c1730c50",
   "metadata": {},
   "outputs": [],
   "source": []
  }
 ],
 "metadata": {
  "kernelspec": {
   "display_name": "Python [conda env:tensorflow2_p38] *",
   "language": "python",
   "name": "conda-env-tensorflow2_p38-py"
  },
  "language_info": {
   "codemirror_mode": {
    "name": "ipython",
    "version": 3
   },
   "file_extension": ".py",
   "mimetype": "text/x-python",
   "name": "python",
   "nbconvert_exporter": "python",
   "pygments_lexer": "ipython3",
   "version": "3.8.12"
  }
 },
 "nbformat": 4,
 "nbformat_minor": 5
}
